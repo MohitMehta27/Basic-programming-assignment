{
 "cells": [
  {
   "cell_type": "code",
   "execution_count": null,
   "id": "8eb4b826-a388-44c0-b894-07b180f2daf9",
   "metadata": {},
   "outputs": [],
   "source": [
    "Question1\n",
    "Create a function that takes a list of strings and integers, and filters out the list so that it returns a list of integers only.\n",
    "Examples\n",
    "filter_list([1, 2, 3, \"a\", \"b\", 4]) ➞ [1, 2, 3, 4]\n",
    "\n",
    "filter_list([\"A\", 0, \"Edabit\", 1729, \"Python\", \"1729\"]) ➞ [0, 1729]\n",
    "\n",
    "filter_list([\"Nothing\", \"here\"]) ➞ []\n",
    "\n"
   ]
  },
  {
   "cell_type": "code",
   "execution_count": 1,
   "id": "b049cbde-5582-49ef-a05b-15cfbc7e5a9e",
   "metadata": {},
   "outputs": [
    {
     "data": {
      "text/plain": [
       "[1, 2, 3, 4]"
      ]
     },
     "execution_count": 1,
     "metadata": {},
     "output_type": "execute_result"
    }
   ],
   "source": [
    "def filter_integers(lst):\n",
    "    return [i for i in lst if isinstance(i, int)]\n",
    "filter_integers([1, 2, 3, \"a\", \"b\", 4])"
   ]
  },
  {
   "cell_type": "code",
   "execution_count": null,
   "id": "d461a727-176d-4916-a038-4b98d6b85b0c",
   "metadata": {},
   "outputs": [],
   "source": [
    "Question2\n",
    "Given a list of numbers, create a function which returns the list but with each element's index in the list added to itself. This means you add 0 to the number at index 0, add 1 to the number at index 1, etc...\n",
    "Examples\n",
    "add_indexes([0, 0, 0, 0, 0]) ➞ [0, 1, 2, 3, 4]\n",
    "\n",
    "add_indexes([1, 2, 3, 4, 5]) ➞ [1, 3, 5, 7, 9]\n",
    "\n",
    "add_indexes([5, 4, 3, 2, 1]) ➞ [5, 5, 5, 5, 5]\n",
    "\n"
   ]
  },
  {
   "cell_type": "code",
   "execution_count": 4,
   "id": "11ae9a91-3609-400a-8682-fb94a69b23a9",
   "metadata": {},
   "outputs": [
    {
     "data": {
      "text/plain": [
       "[1, 3, 5, 7, 9, 11]"
      ]
     },
     "execution_count": 4,
     "metadata": {},
     "output_type": "execute_result"
    }
   ],
   "source": [
    "def add_index(lst):\n",
    "     result = []  \n",
    "     for i in range(len(lst)):  \n",
    "        result.append(i + lst[i]) \n",
    "     return result \n",
    "add_index([1,2,3,4,5,6])"
   ]
  },
  {
   "cell_type": "code",
   "execution_count": null,
   "id": "ee4680a2-2e63-44f4-a3a0-653cf506476e",
   "metadata": {},
   "outputs": [],
   "source": [
    "Question3\n",
    "Create a function that takes the height and radius of a cone as arguments and returns the volume of the cone rounded to the nearest hundredth. See the resources tab for the formula.\n",
    " \n",
    "Examples\n",
    "cone_volume(3, 2) ➞ 12.57\n",
    "\n",
    "cone_volume(15, 6) ➞ 565.49\n",
    "\n",
    "cone_volume(18, 0) ➞ 0\n"
   ]
  },
  {
   "cell_type": "code",
   "execution_count": 8,
   "id": "eac6de4b-2067-4a99-aac8-05aa59b002a3",
   "metadata": {},
   "outputs": [
    {
     "data": {
      "text/plain": [
       "565.49"
      ]
     },
     "execution_count": 8,
     "metadata": {},
     "output_type": "execute_result"
    }
   ],
   "source": [
    "import math\n",
    "\n",
    "def cone_volume(height, radius):\n",
    "    volume = (1/3) * math.pi * radius**2 * height  \n",
    "    rounded_volume = round(volume, 2)  \n",
    "    return rounded_volume\n",
    "cone_volume(15, 6)"
   ]
  },
  {
   "cell_type": "code",
   "execution_count": null,
   "id": "737c3ca2-87b8-4a7d-9193-4c47260ae32c",
   "metadata": {},
   "outputs": [],
   "source": [
    "Question4\n",
    "This Triangular Number Sequence is generated from a pattern of dots that form a triangle. The first 5 numbers of the sequence, or dots, are: \n",
    "1, 3, 6, 10, 15\n",
    "This means that the first triangle has just one dot, the second one has three dots, the third one has 6 dots and so on.\n",
    "Write a function that gives the number of dots with its corresponding triangle number of the sequence.\n",
    "Examples\n",
    "triangle(1) ➞ 1\n",
    "\n",
    "triangle(6) ➞ 21\n",
    "\n",
    "triangle(215) ➞ 23220\n"
   ]
  },
  {
   "cell_type": "code",
   "execution_count": 10,
   "id": "07d24a17-9a5f-41ac-97a4-32c7fa0c71b7",
   "metadata": {},
   "outputs": [
    {
     "data": {
      "text/plain": [
       "21"
      ]
     },
     "execution_count": 10,
     "metadata": {},
     "output_type": "execute_result"
    }
   ],
   "source": [
    "def triangle_number(n):\n",
    "    return (n * (n + 1)) // 2\n",
    "triangle_number(6) "
   ]
  },
  {
   "cell_type": "code",
   "execution_count": null,
   "id": "160e2096-dd1b-4395-ac7f-f7bacd33bb6d",
   "metadata": {},
   "outputs": [],
   "source": [
    "Question5\n",
    "Create a function that takes a list of numbers between 1 and 10 (excluding one number) and returns the missing number.\n",
    "Examples\n",
    "missing_num([1, 2, 3, 4, 6, 7, 8, 9, 10]) ➞ 5\n",
    "\n",
    "missing_num([7, 2, 3, 6, 5, 9, 1, 4, 8]) ➞ 10\n",
    "\n",
    "missing_num([10, 5, 1, 2, 4, 6, 8, 3, 9]) ➞ 7\n"
   ]
  },
  {
   "cell_type": "code",
   "execution_count": 9,
   "id": "da700f5a-e254-4822-9607-06d49abf7bad",
   "metadata": {},
   "outputs": [
    {
     "data": {
      "text/plain": [
       "10"
      ]
     },
     "execution_count": 9,
     "metadata": {},
     "output_type": "execute_result"
    }
   ],
   "source": [
    "def find_missing_number(lst):\n",
    "   for num in range(1, 11):  \n",
    "        if num not in lst:  \n",
    "            return num  \n",
    "find_missing_number([7, 2, 3, 6, 5, 9, 1, 4, 8])"
   ]
  }
 ],
 "metadata": {
  "kernelspec": {
   "display_name": "Python 3 (ipykernel)",
   "language": "python",
   "name": "python3"
  },
  "language_info": {
   "codemirror_mode": {
    "name": "ipython",
    "version": 3
   },
   "file_extension": ".py",
   "mimetype": "text/x-python",
   "name": "python",
   "nbconvert_exporter": "python",
   "pygments_lexer": "ipython3",
   "version": "3.10.6"
  }
 },
 "nbformat": 4,
 "nbformat_minor": 5
}
