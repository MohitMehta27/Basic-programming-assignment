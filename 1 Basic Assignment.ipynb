{
 "cells": [
  {
   "cell_type": "markdown",
   "id": "de19566d-4de2-4915-ae74-251b10618b09",
   "metadata": {},
   "source": [
    "1. Write a Python program to print \"Hello Python\"?"
   ]
  },
  {
   "cell_type": "code",
   "execution_count": 1,
   "id": "0c86cc23-84ac-4f1a-88d7-84bb6000711f",
   "metadata": {},
   "outputs": [
    {
     "name": "stdout",
     "output_type": "stream",
     "text": [
      "Hello Python\n"
     ]
    }
   ],
   "source": [
    "print(\"Hello Python\")"
   ]
  },
  {
   "cell_type": "markdown",
   "id": "db846d11-bf72-4790-b9ec-f575f6e3f774",
   "metadata": {},
   "source": [
    "2. Write a Python program to do arithmetical operations addition and division.?"
   ]
  },
  {
   "cell_type": "code",
   "execution_count": 3,
   "id": "be19c255-c68c-439e-85d2-b3895c3de4ff",
   "metadata": {},
   "outputs": [
    {
     "name": "stdin",
     "output_type": "stream",
     "text": [
      "enter value of a 5\n",
      "enter value of b 0\n"
     ]
    },
    {
     "name": "stdout",
     "output_type": "stream",
     "text": [
      "The result of addition is 5 and the result of division is Zero division error\n"
     ]
    }
   ],
   "source": [
    "a= int(input(\"enter value of a\"))\n",
    "b = int(input(\"enter value of b\"))\n",
    "\n",
    "add= a+b\n",
    "\n",
    "if b!=0:\n",
    "    division=a/b\n",
    "else:\n",
    "    division=\"Zero division error try gain\"\n",
    "    \n",
    "print (f\"The result of addition is {add} and the result of division is {division}\")"
   ]
  },
  {
   "cell_type": "markdown",
   "id": "90b431f5-8f9b-4341-a919-38cff62771a4",
   "metadata": {},
   "source": [
    "3. Write a Python program to find the area of a triangle?"
   ]
  },
  {
   "cell_type": "code",
   "execution_count": 6,
   "id": "dcef3a41-a9ac-45b4-b6e2-4ae506f185b3",
   "metadata": {},
   "outputs": [
    {
     "name": "stdin",
     "output_type": "stream",
     "text": [
      "enter value of a 2\n",
      "enter value of b 5\n"
     ]
    },
    {
     "name": "stdout",
     "output_type": "stream",
     "text": [
      "5.0\n"
     ]
    }
   ],
   "source": [
    "a= int(input(\"enter value of a\"))\n",
    "b = int(input(\"enter value of b\"))\n",
    "area_of_triangle= 1/2 * a *b\n",
    "print (area_of_triangle)"
   ]
  },
  {
   "cell_type": "markdown",
   "id": "b45ad15d-8b32-4b19-a6e5-ee09c6652f3e",
   "metadata": {},
   "source": [
    "4. Write a Python program to swap two variables?"
   ]
  },
  {
   "cell_type": "code",
   "execution_count": 1,
   "id": "5bef296c-61e0-48eb-8acf-36502f4ee1aa",
   "metadata": {},
   "outputs": [
    {
     "name": "stdin",
     "output_type": "stream",
     "text": [
      "Enter value of x 5\n",
      "enter value of y 10\n"
     ]
    },
    {
     "name": "stdout",
     "output_type": "stream",
     "text": [
      "The value of x after swapping: 10\n",
      "The value of y after swapping: 5\n"
     ]
    }
   ],
   "source": [
    "x = int (input(\"Enter value of x\"))\n",
    "y = int (input(\"enter value of y\"))\n",
    "\n",
    "temp = x\n",
    "x = y\n",
    "y = temp\n",
    "\n",
    "print('The value of x after swapping: {}'.format(x))\n",
    "print('The value of y after swapping: {}'.format(y))"
   ]
  },
  {
   "cell_type": "markdown",
   "id": "1c4c1819-83f7-48a4-8330-b5cb8e97216f",
   "metadata": {},
   "source": [
    "5.Write a Python program to generate a random number?"
   ]
  },
  {
   "cell_type": "code",
   "execution_count": 7,
   "id": "3d10cc0b-38ef-433e-b43a-b8f5eecaaf10",
   "metadata": {},
   "outputs": [
    {
     "name": "stdout",
     "output_type": "stream",
     "text": [
      "38\n"
     ]
    }
   ],
   "source": [
    "import random\n",
    "print(random.randint(0,50))"
   ]
  }
 ],
 "metadata": {
  "kernelspec": {
   "display_name": "Python 3 (ipykernel)",
   "language": "python",
   "name": "python3"
  },
  "language_info": {
   "codemirror_mode": {
    "name": "ipython",
    "version": 3
   },
   "file_extension": ".py",
   "mimetype": "text/x-python",
   "name": "python",
   "nbconvert_exporter": "python",
   "pygments_lexer": "ipython3",
   "version": "3.10.6"
  }
 },
 "nbformat": 4,
 "nbformat_minor": 5
}
