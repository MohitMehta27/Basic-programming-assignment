{
 "cells": [
  {
   "cell_type": "code",
   "execution_count": null,
   "id": "3cda6546-4852-49c6-a37d-d1744ca1f8f4",
   "metadata": {},
   "outputs": [],
   "source": [
    "1.\tWrite a Python Program to find sum of array?"
   ]
  },
  {
   "cell_type": "code",
   "execution_count": 1,
   "id": "94e7fbbd-1082-4372-8f9b-a4c852a2af40",
   "metadata": {},
   "outputs": [
    {
     "name": "stdout",
     "output_type": "stream",
     "text": [
      "The sum of the array is: 50\n"
     ]
    }
   ],
   "source": [
    "a = [5, 10, 15, 20]\n",
    "\n",
    "sum = 0\n",
    "for i in range(len(a)):\n",
    "    sum += a[i]\n",
    "\n",
    "print(\"The sum of the array is:\", sum)\n"
   ]
  },
  {
   "cell_type": "code",
   "execution_count": null,
   "id": "fa51587e-d0ca-45bd-8d08-600b3e2e4be4",
   "metadata": {},
   "outputs": [],
   "source": [
    "2.\tWrite a Python Program to find largest element in an array?"
   ]
  },
  {
   "cell_type": "code",
   "execution_count": 1,
   "id": "a8514462-74f6-4982-aad6-300a36591d1f",
   "metadata": {},
   "outputs": [
    {
     "name": "stdout",
     "output_type": "stream",
     "text": [
      "The largest element in the array is: 9\n"
     ]
    }
   ],
   "source": [
    "arr = [3, 7, 2, 9, 4, 8, 5]\n",
    "largest = max(arr)\n",
    "print(\"The largest element in the array is:\", largest)\n"
   ]
  },
  {
   "cell_type": "code",
   "execution_count": null,
   "id": "a01a8663-ac88-479d-974d-c2bfbdbcd488",
   "metadata": {},
   "outputs": [],
   "source": [
    "3.\tWrite a Python Program for array rotation?"
   ]
  },
  {
   "cell_type": "code",
   "execution_count": 1,
   "id": "4779435c-8949-40e6-8ab2-04ca23572531",
   "metadata": {},
   "outputs": [
    {
     "name": "stdout",
     "output_type": "stream",
     "text": [
      "The rotated array is: [3, 4, 5, 1, 2]\n"
     ]
    }
   ],
   "source": [
    "arr = [1, 2, 3, 4, 5]\n",
    "k = 2\n",
    "for i in range(k):\n",
    "    first = arr.pop(0)\n",
    "    arr.append(first)\n",
    "print(\"The rotated array is:\", arr)\n"
   ]
  },
  {
   "cell_type": "code",
   "execution_count": null,
   "id": "cfc4d121-96c7-42ca-994b-3a57ade264a8",
   "metadata": {},
   "outputs": [],
   "source": [
    "4.\tWrite a Python Program to Split the array and add the first part to the end?"
   ]
  },
  {
   "cell_type": "code",
   "execution_count": 7,
   "id": "67342941-f7d6-435f-ab8d-ff6232d33b0f",
   "metadata": {},
   "outputs": [
    {
     "name": "stdout",
     "output_type": "stream",
     "text": [
      "Original array: [10, 20, 30, 40, 50]\n",
      "New array: [30, 40, 50, 10, 20]\n"
     ]
    }
   ],
   "source": [
    "def split_and_add(arr, n):\n",
    "    first_half = arr[:n]\n",
    "    second_half = arr[n:]\n",
    "    new_arr = second_half + first_half\n",
    "    return new_arr\n",
    "arr = [10, 20, 30, 40, 50]\n",
    "n = 2\n",
    "new_arr = split_and_add(arr, n)\n",
    "print(\"Original array:\", arr)\n",
    "print(\"New array:\", new_arr)\n"
   ]
  },
  {
   "cell_type": "code",
   "execution_count": null,
   "id": "2fe83f0f-5f0e-4a82-9f0c-bd6d168ec81f",
   "metadata": {},
   "outputs": [],
   "source": [
    "5.\tWrite a Python Program to check if given array is Monotonic?"
   ]
  },
  {
   "cell_type": "code",
   "execution_count": 5,
   "id": "b5f734c6-cd5a-4487-a3da-973fa2da9eba",
   "metadata": {},
   "outputs": [
    {
     "data": {
      "text/plain": [
       "True"
      ]
     },
     "execution_count": 5,
     "metadata": {},
     "output_type": "execute_result"
    }
   ],
   "source": [
    "def is_monotonic(arr):\n",
    "    increasing = decreasing = True\n",
    "    \n",
    "    for i in range(1, len(arr)):\n",
    "        if arr[i] > arr[i-1]:\n",
    "            decreasing = False\n",
    "        elif arr[i] < arr[i-1]:\n",
    "            increasing = False\n",
    "    \n",
    "    return increasing or decreasing\n",
    "\n",
    "arr1 = [1, 2, 3, 4, 5]\n",
    "is_monotonic(arr1)\n"
   ]
  }
 ],
 "metadata": {
  "kernelspec": {
   "display_name": "Python 3 (ipykernel)",
   "language": "python",
   "name": "python3"
  },
  "language_info": {
   "codemirror_mode": {
    "name": "ipython",
    "version": 3
   },
   "file_extension": ".py",
   "mimetype": "text/x-python",
   "name": "python",
   "nbconvert_exporter": "python",
   "pygments_lexer": "ipython3",
   "version": "3.10.6"
  }
 },
 "nbformat": 4,
 "nbformat_minor": 5
}
