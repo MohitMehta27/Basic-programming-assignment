{
 "cells": [
  {
   "cell_type": "markdown",
   "id": "b0d85077-7961-4de5-a9a6-c416e5d39cb2",
   "metadata": {},
   "source": [
    "1.\tWrite a Python program to check if the given number is a Disarium Number?"
   ]
  },
  {
   "cell_type": "code",
   "execution_count": 6,
   "id": "e43da834-3fb6-40ed-91b9-c3db1114947a",
   "metadata": {},
   "outputs": [
    {
     "name": "stdout",
     "output_type": "stream",
     "text": [
      "The 175 is disarium number \n"
     ]
    }
   ],
   "source": [
    "def is_disarium(num):\n",
    "    num_str = str(num)\n",
    "    n = len(num_str)\n",
    "    sum_of_digits = 0\n",
    "    for i in range(n):\n",
    "        sum_of_digits += int(num_str[i])**(i+1)\n",
    "    if sum_of_digits == num:\n",
    "        print (f\"The {num} is disarium number \")\n",
    "    else:\n",
    "        print (f\"The {num} is not disarium number\")\n",
    "is_disarium(175)\n",
    "    "
   ]
  },
  {
   "cell_type": "markdown",
   "id": "845135a4-a48b-4153-a61d-195ad40bfcd8",
   "metadata": {},
   "source": [
    "2.\tWrite a Python program to print all disarium numbers between 1 to 100?"
   ]
  },
  {
   "cell_type": "code",
   "execution_count": 9,
   "id": "795ce7f2-98d5-46fa-9772-aa4c64cb8901",
   "metadata": {},
   "outputs": [
    {
     "name": "stdout",
     "output_type": "stream",
     "text": [
      "1\n",
      "2\n",
      "3\n",
      "4\n",
      "5\n",
      "6\n",
      "7\n",
      "8\n",
      "9\n",
      "89\n"
     ]
    }
   ],
   "source": [
    "def is_disarium(num):\n",
    "    num_str = str(num)\n",
    "    n = len(num_str)\n",
    "    sum_of_digits = 0\n",
    "    for i in range(n):\n",
    "        sum_of_digits += int(num_str[i])**(i+1)\n",
    "    if sum_of_digits == num:\n",
    "        return True\n",
    "    else:\n",
    "        False\n",
    "for i in range (1,100):\n",
    "    if is_disarium(i):\n",
    "        print (i)"
   ]
  },
  {
   "cell_type": "markdown",
   "id": "91e123eb-8f97-432e-881d-f5dd5999f855",
   "metadata": {},
   "source": [
    "3.\tWrite a Python program to check if the given number is Happy Number?"
   ]
  },
  {
   "cell_type": "code",
   "execution_count": 13,
   "id": "cfb3622e-b3e5-4b05-98dd-94ef08dbf0c5",
   "metadata": {},
   "outputs": [
    {
     "name": "stdin",
     "output_type": "stream",
     "text": [
      "Enter the number 19\n"
     ]
    },
    {
     "name": "stdout",
     "output_type": "stream",
     "text": [
      "19 is a Happy number\n"
     ]
    }
   ],
   "source": [
    "n=int(input(\"Enter the number\"))\n",
    "x=n\n",
    "\n",
    "while x>=10:\n",
    "    sum=0\n",
    "    while x>0:\n",
    "        r=x%10\n",
    "        sum= sum+(r**2)\n",
    "        x=x//10\n",
    "    x=sum\n",
    "    \n",
    "if x==1:\n",
    "    print (n, \"is a Happy number\")\n",
    "else:\n",
    "    print (n, \"is not a happy number\")\n",
    "    "
   ]
  },
  {
   "cell_type": "markdown",
   "id": "2599ad39-323c-4a72-8212-1755ce7be139",
   "metadata": {},
   "source": [
    "4.\tWrite a Python program to print all happy numbers between 1 and 100?"
   ]
  },
  {
   "cell_type": "code",
   "execution_count": 7,
   "id": "d31928e4-f490-430e-a80e-58eada202d22",
   "metadata": {},
   "outputs": [
    {
     "name": "stdout",
     "output_type": "stream",
     "text": [
      "1\n",
      "10\n",
      "13\n",
      "19\n",
      "23\n",
      "28\n",
      "31\n",
      "32\n",
      "44\n",
      "49\n",
      "68\n",
      "70\n",
      "79\n",
      "82\n",
      "86\n",
      "91\n",
      "94\n",
      "97\n"
     ]
    }
   ],
   "source": [
    "def is_happy_number(n):\n",
    "    x = n\n",
    "\n",
    "    while x >= 10:\n",
    "        sum = 0\n",
    "        while x > 0:\n",
    "            r = x % 10\n",
    "            sum = sum + (r**2)\n",
    "            x = x // 10\n",
    "        x = sum\n",
    "\n",
    "    if x == 1:\n",
    "        return True\n",
    "    else:\n",
    "        return False\n",
    "    \n",
    "for i in range (1,100):\n",
    "    if is_happy_number(i):\n",
    "        print(i)\n"
   ]
  },
  {
   "cell_type": "markdown",
   "id": "46ec72da-be75-438b-877e-b7afb2e9e0b1",
   "metadata": {},
   "source": [
    "5.\tWrite a Python program to determine whether the given number is a Harshad Number?"
   ]
  },
  {
   "cell_type": "code",
   "execution_count": 9,
   "id": "f2d06b6d-d4b5-4e33-bc44-218b7283cb77",
   "metadata": {},
   "outputs": [
    {
     "name": "stdin",
     "output_type": "stream",
     "text": [
      "Enter number 156\n"
     ]
    },
    {
     "name": "stdout",
     "output_type": "stream",
     "text": [
      "156 is a harshad number\n"
     ]
    }
   ],
   "source": [
    "num = int(input(\"Enter number\")) \n",
    "sum = 0    \n",
    "n = num       \n",
    "while(num > 0):    \n",
    "    rem = num%10;    \n",
    "    sum = sum + rem;    \n",
    "    num = num//10;    \n",
    "        \n",
    "if(n%sum == 0):    \n",
    "    print(str(n) + \" is a harshad number\");    \n",
    "else:    \n",
    "    print(str(n) + \" is not a harshad number\");    "
   ]
  },
  {
   "cell_type": "markdown",
   "id": "10cffd86-a605-4e1f-86ea-2951c1c2a891",
   "metadata": {},
   "source": [
    "6.\tWrite a Python program to print all pronic numbers between 1 and 100?"
   ]
  },
  {
   "cell_type": "code",
   "execution_count": 11,
   "id": "d77e82c0-2a6e-4252-9bb9-4c63df2414cf",
   "metadata": {},
   "outputs": [
    {
     "name": "stdout",
     "output_type": "stream",
     "text": [
      "2\n",
      "6\n",
      "12\n",
      "20\n",
      "30\n",
      "42\n",
      "56\n",
      "72\n",
      "90\n"
     ]
    }
   ],
   "source": [
    "def is_pronic(num):\n",
    "    for i in range(1, num):\n",
    "        if i * (i + 1) == num:\n",
    "            return True\n",
    "    else:\n",
    "        return False\n",
    "for i in range(1, 101):\n",
    "    if is_pronic(i):\n",
    "        print(i)\n"
   ]
  }
 ],
 "metadata": {
  "kernelspec": {
   "display_name": "Python 3 (ipykernel)",
   "language": "python",
   "name": "python3"
  },
  "language_info": {
   "codemirror_mode": {
    "name": "ipython",
    "version": 3
   },
   "file_extension": ".py",
   "mimetype": "text/x-python",
   "name": "python",
   "nbconvert_exporter": "python",
   "pygments_lexer": "ipython3",
   "version": "3.10.6"
  }
 },
 "nbformat": 4,
 "nbformat_minor": 5
}
