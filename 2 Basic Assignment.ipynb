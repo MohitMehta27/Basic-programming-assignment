{
 "cells": [
  {
   "cell_type": "markdown",
   "id": "a70d2fd2-9208-4786-a9db-1907710b8681",
   "metadata": {},
   "source": [
    "1. Write a Python program to convert kilometers to miles?"
   ]
  },
  {
   "cell_type": "code",
   "execution_count": 3,
   "id": "71852970-d36e-4c39-b7e9-05dfc445caa6",
   "metadata": {},
   "outputs": [
    {
     "name": "stdin",
     "output_type": "stream",
     "text": [
      "enter kilometer to change in miles 5\n"
     ]
    },
    {
     "name": "stdout",
     "output_type": "stream",
     "text": [
      "5km has 3.1miles\n"
     ]
    }
   ],
   "source": [
    "kilometer= int(input(\"enter kilometer to change in miles\"))\n",
    "miles = kilometer*0.62\n",
    "print (f\"{kilometer}km has {miles}miles\")"
   ]
  },
  {
   "cell_type": "markdown",
   "id": "988f5018-ce8a-4ccf-b02d-15c486449d4d",
   "metadata": {},
   "source": [
    "2. Write a Python program to convert Celsius to Fahrenheit?"
   ]
  },
  {
   "cell_type": "code",
   "execution_count": 6,
   "id": "1400bb74-7199-4585-b702-59b1ef68a205",
   "metadata": {},
   "outputs": [
    {
     "name": "stdin",
     "output_type": "stream",
     "text": [
      "enter celsius to change in fahrenheit 10\n"
     ]
    },
    {
     "name": "stdout",
     "output_type": "stream",
     "text": [
      "10°C has 50.0F\n"
     ]
    }
   ],
   "source": [
    "celsius= int(input(\"enter celsius to change in fahrenheit\"))\n",
    "fahrenheit= celsius*9/5+32\n",
    "print (f\"{celsius}°C has {fahrenheit}F\")"
   ]
  },
  {
   "cell_type": "markdown",
   "id": "58c51875-e087-4870-b919-8ed29cebba4e",
   "metadata": {},
   "source": [
    "3. Write a Python program to display calendar?"
   ]
  },
  {
   "cell_type": "code",
   "execution_count": 7,
   "id": "21b2be5a-c9d5-4dd8-8824-891cd7d282af",
   "metadata": {},
   "outputs": [
    {
     "name": "stdin",
     "output_type": "stream",
     "text": [
      "Enter the year:  2023\n",
      "Enter the month:  05\n"
     ]
    },
    {
     "name": "stdout",
     "output_type": "stream",
     "text": [
      "      May 2023\n",
      "Mo Tu We Th Fr Sa Su\n",
      " 1  2  3  4  5  6  7\n",
      " 8  9 10 11 12 13 14\n",
      "15 16 17 18 19 20 21\n",
      "22 23 24 25 26 27 28\n",
      "29 30 31\n",
      "\n"
     ]
    }
   ],
   "source": [
    "import calendar\n",
    "year = int(input(\"Enter the year: \"))\n",
    "month = int(input(\"Enter the month: \"))\n",
    "print(calendar.month(year, month))\n"
   ]
  },
  {
   "cell_type": "markdown",
   "id": "922453b2-2f92-45bd-bcbc-4bde9f54c038",
   "metadata": {},
   "source": [
    "4. Write a Python program to solve quadratic equation?"
   ]
  },
  {
   "cell_type": "code",
   "execution_count": null,
   "id": "640b7ae9-80ca-4b3f-b4e7-cd2890e37a49",
   "metadata": {},
   "outputs": [],
   "source": []
  },
  {
   "cell_type": "markdown",
   "id": "ab30a241-f8bc-4e00-ba45-f53b427f489c",
   "metadata": {},
   "source": [
    "5. Write a Python program to swap two variables without temp variable?"
   ]
  },
  {
   "cell_type": "code",
   "execution_count": 1,
   "id": "37c50f2e-63c1-4e9a-a86e-052b8bfbe6a8",
   "metadata": {},
   "outputs": [
    {
     "name": "stdin",
     "output_type": "stream",
     "text": [
      "enter value of x 5\n",
      "enter value of y 6\n"
     ]
    },
    {
     "name": "stdout",
     "output_type": "stream",
     "text": [
      "x = 6\n",
      "y = 5\n"
     ]
    }
   ],
   "source": [
    "x = int(input(\"enter value of x\"))\n",
    "y = int(input(\"enter value of y\"))\n",
    "\n",
    "x, y = y, x\n",
    "print(\"x =\", x)\n",
    "print(\"y =\", y)\n"
   ]
  }
 ],
 "metadata": {
  "kernelspec": {
   "display_name": "Python 3 (ipykernel)",
   "language": "python",
   "name": "python3"
  },
  "language_info": {
   "codemirror_mode": {
    "name": "ipython",
    "version": 3
   },
   "file_extension": ".py",
   "mimetype": "text/x-python",
   "name": "python",
   "nbconvert_exporter": "python",
   "pygments_lexer": "ipython3",
   "version": "3.10.6"
  }
 },
 "nbformat": 4,
 "nbformat_minor": 5
}
