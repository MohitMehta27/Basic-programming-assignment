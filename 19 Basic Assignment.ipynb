{
 "cells": [
  {
   "cell_type": "code",
   "execution_count": null,
   "id": "0c1215d0-100a-4782-a1bf-1fcae19a5529",
   "metadata": {},
   "outputs": [],
   "source": [
    "Question1\n",
    "Create a function that takes a string and returns a string in which each character is repeated once.\n",
    "Examples\n",
    "double_char(\"String\") ➞ \"SSttrriinngg\"\n",
    "\n",
    "double_char(\"Hello World!\") ➞ \"HHeelllloo  WWoorrlldd!!\"\n",
    "\n",
    "double_char(\"1234!_ \") ➞ \"11223344!!__  \"\n"
   ]
  },
  {
   "cell_type": "code",
   "execution_count": 1,
   "id": "0a6a9ea4-158b-4036-96f9-05366d1ea7a5",
   "metadata": {},
   "outputs": [
    {
     "name": "stdout",
     "output_type": "stream",
     "text": [
      "SSttrriinngg\n",
      "HHeelllloo  WWoorrlldd!!\n",
      "11223344!!__  \n"
     ]
    }
   ],
   "source": [
    "def double_char(txt):\n",
    "    result = \"\"\n",
    "    for i in txt:\n",
    "        result += i * 2\n",
    "    print (result)\n",
    "double_char(\"String\")\n",
    "double_char(\"Hello World!\") \n",
    "double_char(\"1234!_ \")"
   ]
  },
  {
   "cell_type": "code",
   "execution_count": null,
   "id": "2a8251d8-b6e5-4e7f-87f3-7d792970d19b",
   "metadata": {},
   "outputs": [],
   "source": [
    "Question2\n",
    "Create a function that reverses a boolean value and returns the string \"boolean expected\" if another variable type is given.\n",
    "Examples\n",
    "reverse(True) ➞ False\n",
    "\n",
    "reverse(False) ➞ True\n",
    "\n",
    "reverse(0) ➞ \"boolean expected\"\n",
    "\n",
    "reverse(None) ➞ \"boolean expected\"\n"
   ]
  },
  {
   "cell_type": "code",
   "execution_count": 5,
   "id": "c3d8e0a3-08bb-4a6c-b059-c4680c731e11",
   "metadata": {},
   "outputs": [
    {
     "data": {
      "text/plain": [
       "(False, True, 'boolean expected', 'boolean expected')"
      ]
     },
     "execution_count": 5,
     "metadata": {},
     "output_type": "execute_result"
    }
   ],
   "source": [
    "def reverse_boolean(bool_val):\n",
    "    if isinstance(bool_val, bool):\n",
    "        return not bool_val\n",
    "    else:\n",
    "        return \"boolean expected\"\n",
    "reverse_boolean(True),reverse_boolean(False),reverse_boolean(0),reverse_boolean(None)"
   ]
  },
  {
   "cell_type": "code",
   "execution_count": null,
   "id": "f219c7c9-a9ce-4d98-921e-00c0418532bb",
   "metadata": {},
   "outputs": [],
   "source": [
    "Question3\n",
    "Create a function that returns the thickness (in meters) of a piece of paper after folding it n number of times. The paper starts off with a thickness of 0.5mm.\n",
    "Examples\n",
    "num_layers(1) ➞ \"0.001m\"\n",
    "# Paper folded once is 1mm (equal to 0.001m)\n",
    "\n",
    "num_layers(4) ➞ \"0.008m\"\n",
    "# Paper folded 4 times is 8mm (equal to 0.008m)\n",
    "\n",
    "num_layers(21) ➞ \"1048.576m\"\n",
    "# Paper folded 21 times is 1048576mm (equal to 1048.576m)\n"
   ]
  },
  {
   "cell_type": "code",
   "execution_count": 18,
   "id": "5e63619b-40e6-4199-8d51-e5fc61d52415",
   "metadata": {},
   "outputs": [
    {
     "name": "stdout",
     "output_type": "stream",
     "text": [
      "0.008\n",
      "1048.576\n"
     ]
    }
   ],
   "source": [
    "def paper_thickness(n):\n",
    "    thickness = 0.0005 # Convert 0.5mm to meters\n",
    "    for i in range(n):\n",
    "        thickness *= 2\n",
    "    print (str(thickness)+\"\" \n",
    "paper_thickness(4)\n",
    "paper_thickness(21)"
   ]
  },
  {
   "cell_type": "code",
   "execution_count": null,
   "id": "167e020b-2faf-4b53-ab4d-5ddba295c1b0",
   "metadata": {},
   "outputs": [],
   "source": [
    "Question4\n",
    "Create a function that takes a single string as argument and returns an ordered list containing the indices of all capital letters in the string.\n",
    "Examples\n",
    "index_of_caps(\"eDaBiT\") ➞ [1, 3, 5]\n",
    "\n",
    "index_of_caps(\"eQuINoX\") ➞ [1, 3, 4, 6]\n",
    "\n",
    "index_of_caps(\"determine\") ➞ []\n",
    "\n",
    "index_of_caps(\"STRIKE\") ➞ [0, 1, 2, 3, 4, 5]\n",
    "\n",
    "index_of_caps(\"sUn\") ➞ [1]\n"
   ]
  },
  {
   "cell_type": "code",
   "execution_count": 11,
   "id": "c97316da-f283-4eb7-9f0f-ac9d26fe183d",
   "metadata": {},
   "outputs": [
    {
     "data": {
      "text/plain": [
       "[1, 3, 5]"
      ]
     },
     "execution_count": 11,
     "metadata": {},
     "output_type": "execute_result"
    }
   ],
   "source": [
    "def xyz(s):\n",
    "    return [i for i in range(len(s)) if s[i].isupper()]\n",
    "xyz(\"eDaBiT\")"
   ]
  },
  {
   "cell_type": "code",
   "execution_count": null,
   "id": "8a787b88-52a6-497a-b0fa-59aa606c4240",
   "metadata": {},
   "outputs": [],
   "source": [
    "Question5\n",
    "Using list comprehensions, create a function that finds all even numbers from 1 to the given number.\n",
    "Examples\n",
    "find_even_nums(8) ➞ [2, 4, 6, 8]\n",
    "\n",
    "find_even_nums(4) ➞ [2, 4]\n",
    "\n",
    "find_even_nums(2) ➞ [2]\n"
   ]
  },
  {
   "cell_type": "code",
   "execution_count": 9,
   "id": "b1e69f4f-4aa8-4771-8679-8d80ee74e857",
   "metadata": {},
   "outputs": [
    {
     "data": {
      "text/plain": [
       "[2, 4, 6, 8]"
      ]
     },
     "execution_count": 9,
     "metadata": {},
     "output_type": "execute_result"
    }
   ],
   "source": [
    "def find_even_numbers(n):\n",
    "    return [x for x in range(1, n+1) if x % 2 == 0]\n",
    "find_even_numbers(8)"
   ]
  }
 ],
 "metadata": {
  "kernelspec": {
   "display_name": "Python 3 (ipykernel)",
   "language": "python",
   "name": "python3"
  },
  "language_info": {
   "codemirror_mode": {
    "name": "ipython",
    "version": 3
   },
   "file_extension": ".py",
   "mimetype": "text/x-python",
   "name": "python",
   "nbconvert_exporter": "python",
   "pygments_lexer": "ipython3",
   "version": "3.10.6"
  }
 },
 "nbformat": 4,
 "nbformat_minor": 5
}
