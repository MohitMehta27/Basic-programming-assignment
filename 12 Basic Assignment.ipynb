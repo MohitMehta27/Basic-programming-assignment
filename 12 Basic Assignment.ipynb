{
 "cells": [
  {
   "cell_type": "code",
   "execution_count": null,
   "id": "26a77297-7a04-4f32-a868-1328664ef907",
   "metadata": {},
   "outputs": [],
   "source": [
    "1.\tWrite a Python program to Extract Unique values dictionary values?"
   ]
  },
  {
   "cell_type": "code",
   "execution_count": 1,
   "id": "61113984-9b77-46df-bb3b-9d6403830030",
   "metadata": {},
   "outputs": [
    {
     "name": "stdout",
     "output_type": "stream",
     "text": [
      "Unique values: {1, 2, 3}\n"
     ]
    }
   ],
   "source": [
    "my_dict = {\"apple\": 2,\"banana\": 3,\"cherry\": 2,\"orange\": 1,\"peach\": 3}\n",
    "\n",
    "unique_values = set(my_dict.values())\n",
    "\n",
    "print(\"Unique values:\", unique_values)\n"
   ]
  },
  {
   "cell_type": "code",
   "execution_count": null,
   "id": "82b621ab-c180-4091-ac3c-ef5a351a6dd5",
   "metadata": {},
   "outputs": [],
   "source": [
    "2.\tWrite a Python program to find the sum of all items in a dictionary?"
   ]
  },
  {
   "cell_type": "code",
   "execution_count": 2,
   "id": "2eb3a9db-c12f-4ed1-b32d-5d19665e673f",
   "metadata": {},
   "outputs": [
    {
     "name": "stdout",
     "output_type": "stream",
     "text": [
      "Sum of all items in dictionary: 12\n"
     ]
    }
   ],
   "source": [
    "my_dict = {\"apple\": 2,\"banana\": 3,\"cherry\": 4,\"orange\": 1,\"peach\": 2}\n",
    "\n",
    "sum = 0\n",
    "\n",
    "for value in my_dict.values():\n",
    "    sum += value\n",
    "\n",
    "print(\"Sum of all items in dictionary:\", sum)\n"
   ]
  },
  {
   "cell_type": "code",
   "execution_count": null,
   "id": "25b62ba4-2940-4a13-80c1-0c942cf6d5fd",
   "metadata": {},
   "outputs": [],
   "source": [
    "3.\tWrite a Python program to Merging two Dictionaries?"
   ]
  },
  {
   "cell_type": "code",
   "execution_count": 3,
   "id": "a2552a0f-bc36-4145-afb1-93ab75cde84b",
   "metadata": {},
   "outputs": [
    {
     "name": "stdout",
     "output_type": "stream",
     "text": [
      "Merged dictionary: {'a': 2, 'b': 3, 'c': 4, 'd': 1, 'e': 2, 'f': 1}\n"
     ]
    }
   ],
   "source": [
    "dict1 = {\"a\": 2, \"b\": 3, \"c\": 4}\n",
    "dict2 = {\"d\": 1, \"e\": 2, \"f\": 1}\n",
    "\n",
    "merged_dict = dict1.copy()\n",
    "merged_dict.update(dict2)\n",
    "\n",
    "print(\"Merged dictionary:\", merged_dict)\n"
   ]
  },
  {
   "cell_type": "code",
   "execution_count": null,
   "id": "2f7d4718-ee5b-4653-8d16-f8ae905d082d",
   "metadata": {},
   "outputs": [],
   "source": [
    "4.\tWrite a Python program to convert key-values list to flat dictionary?"
   ]
  },
  {
   "cell_type": "code",
   "execution_count": 4,
   "id": "260f7ac5-7842-41a6-ba0a-4a2fa5ee28a8",
   "metadata": {},
   "outputs": [
    {
     "name": "stdout",
     "output_type": "stream",
     "text": [
      "Flat dictionary: {'a': 2, 'b': 3, 'c': 4}\n"
     ]
    }
   ],
   "source": [
    "key_value_list = [('a', 2), ('b', 3), ('c', 4)]\n",
    "\n",
    "flat_dict = {}\n",
    "\n",
    "for pair in key_value_list:\n",
    "    key, value = pair\n",
    "    flat_dict[key] = value\n",
    "\n",
    "print(\"Flat dictionary:\", flat_dict)\n"
   ]
  },
  {
   "cell_type": "code",
   "execution_count": null,
   "id": "0c9c12a8-8b12-4254-8ba4-6aecae1f2712",
   "metadata": {},
   "outputs": [],
   "source": [
    "5.\tWrite a Python program to insertion at the beginning in OrderedDict?"
   ]
  },
  {
   "cell_type": "code",
   "execution_count": 6,
   "id": "d91377a6-1bcc-4572-ad0b-558e032424a5",
   "metadata": {},
   "outputs": [
    {
     "name": "stdout",
     "output_type": "stream",
     "text": [
      "Original OrderedDict: OrderedDict([('a', 2), ('b', 3), ('c', 4)])\n",
      "OrderedDict after insertion: OrderedDict([('d', 1), ('a', 2), ('b', 3), ('c', 4)])\n"
     ]
    }
   ],
   "source": [
    "from collections import OrderedDict\n",
    "\n",
    "ordered_dict = OrderedDict([('a', 2), ('b', 3), ('c', 4)])\n",
    "print(\"Original OrderedDict:\", ordered_dict)\n",
    "\n",
    "new_item = ('d', 1)\n",
    "ordered_dict = OrderedDict([new_item] + list(ordered_dict.items()))\n",
    "\n",
    "print(\"OrderedDict after insertion:\", ordered_dict)\n"
   ]
  },
  {
   "cell_type": "code",
   "execution_count": null,
   "id": "bdb9c3f9-ce11-4e2f-a108-9404c7b5dab8",
   "metadata": {},
   "outputs": [],
   "source": [
    "6.\tWrite a Python program to check order of character in string using OrderedDict()?"
   ]
  },
  {
   "cell_type": "code",
   "execution_count": 8,
   "id": "6a737a53-2aee-4c40-9840-982245dc4581",
   "metadata": {},
   "outputs": [
    {
     "name": "stdout",
     "output_type": "stream",
     "text": [
      "The characters in 'lo' appear in order in 'hello world'\n"
     ]
    }
   ],
   "source": [
    "from collections import OrderedDict\n",
    "\n",
    "def check_order(input_str, pattern):\n",
    "    order_dict = OrderedDict.fromkeys(input_str)\n",
    "    j = 0\n",
    "    for char in order_dict:\n",
    "        if char == pattern[j]:\n",
    "            j += 1\n",
    "        if j == len(pattern):\n",
    "            return True\n",
    "\n",
    "    return False\n",
    "\n",
    "input_str = \"hello world\"\n",
    "pattern = \"lo\"\n",
    "if check_order(input_str, pattern):\n",
    "    print(f\"The characters in '{pattern}' appear in order in '{input_str}'\")\n",
    "else:\n",
    "    print(f\"The characters in '{pattern}' do not appear in order in '{input_str}'\")\n"
   ]
  },
  {
   "cell_type": "code",
   "execution_count": null,
   "id": "7b1d6793-76b1-4510-a6b7-a6c35ca79718",
   "metadata": {},
   "outputs": [],
   "source": [
    "7.\tWrite a Python program to sort Python Dictionaries by Key or Value?"
   ]
  },
  {
   "cell_type": "code",
   "execution_count": 7,
   "id": "9738bc6c-345f-49c8-a6f6-765278762222",
   "metadata": {},
   "outputs": [
    {
     "name": "stdout",
     "output_type": "stream",
     "text": [
      "Sorted by Key: {'a': 3, 'b': 1, 'c': 2}\n",
      "Sorted by Value: {'b': 1, 'c': 2, 'a': 3}\n"
     ]
    }
   ],
   "source": [
    "my_dict = {'a': 3, 'b': 1, 'c': 2}\n",
    "sorted_dict_by_key = dict(sorted(my_dict.items()))\n",
    "print(\"Sorted by Key:\", sorted_dict_by_key)\n",
    "sorted_dict_by_value = dict(sorted(my_dict.items(), key=lambda x: x[1]))\n",
    "print(\"Sorted by Value:\", sorted_dict_by_value)\n"
   ]
  }
 ],
 "metadata": {
  "kernelspec": {
   "display_name": "Python 3 (ipykernel)",
   "language": "python",
   "name": "python3"
  },
  "language_info": {
   "codemirror_mode": {
    "name": "ipython",
    "version": 3
   },
   "file_extension": ".py",
   "mimetype": "text/x-python",
   "name": "python",
   "nbconvert_exporter": "python",
   "pygments_lexer": "ipython3",
   "version": "3.10.6"
  }
 },
 "nbformat": 4,
 "nbformat_minor": 5
}
