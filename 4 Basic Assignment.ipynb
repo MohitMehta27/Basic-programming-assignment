{
 "cells": [
  {
   "cell_type": "markdown",
   "id": "28eaa6db-646d-4678-abc8-b2bcb59ae43d",
   "metadata": {},
   "source": [
    "1.\tWrite a Python Program to Find the Factorial of a Number?"
   ]
  },
  {
   "cell_type": "code",
   "execution_count": 3,
   "id": "a4f9cfd0-1b85-416f-9845-748be64b2337",
   "metadata": {},
   "outputs": [
    {
     "name": "stdin",
     "output_type": "stream",
     "text": [
      "Enter a number:  -1\n"
     ]
    },
    {
     "name": "stdout",
     "output_type": "stream",
     "text": [
      "Factorial of -1 is 1\n"
     ]
    }
   ],
   "source": [
    "num = int(input(\"Enter a number: \"))\n",
    "fact = 1\n",
    "for i in range(1, num+1):\n",
    "    fact *= i\n",
    "print(\"Factorial of\", num, \"is\", fact)\n"
   ]
  },
  {
   "cell_type": "markdown",
   "id": "dbbca0cd-809e-4a3e-b007-b99232cc7466",
   "metadata": {},
   "source": [
    "2.\tWrite a Python Program to Display the multiplication Table?"
   ]
  },
  {
   "cell_type": "code",
   "execution_count": 7,
   "id": "31e8f67b-a056-4cdd-866b-1e120e5a5f73",
   "metadata": {},
   "outputs": [
    {
     "name": "stdin",
     "output_type": "stream",
     "text": [
      "Enter number for multiplication 5\n"
     ]
    },
    {
     "name": "stdout",
     "output_type": "stream",
     "text": [
      "5 x 1 = 5\n",
      "5 x 2 = 10\n",
      "5 x 3 = 15\n",
      "5 x 4 = 20\n",
      "5 x 5 = 25\n",
      "5 x 6 = 30\n",
      "5 x 7 = 35\n",
      "5 x 8 = 40\n",
      "5 x 9 = 45\n",
      "5 x 10 = 50\n"
     ]
    }
   ],
   "source": [
    "num=int(input(\"Enter number for multiplication\"))\n",
    "for i in range (1,11):\n",
    "    print (num,\"x\", i, \"=\", num*i)"
   ]
  },
  {
   "cell_type": "markdown",
   "id": "0ec26489-40c0-468e-9b6e-5dfe38e61448",
   "metadata": {},
   "source": [
    "3.\tWrite a Python Program to Print the Fibonacci sequence?"
   ]
  },
  {
   "cell_type": "code",
   "execution_count": 11,
   "id": "927238c1-f6bf-46d1-97f4-f7e0d3fcc818",
   "metadata": {},
   "outputs": [
    {
     "name": "stdin",
     "output_type": "stream",
     "text": [
      "Enter number till where you want to get fibonacci series 10\n"
     ]
    },
    {
     "name": "stdout",
     "output_type": "stream",
     "text": [
      "0\n",
      "1\n",
      "1\n",
      "2\n",
      "3\n",
      "5\n",
      "8\n"
     ]
    }
   ],
   "source": [
    "num=int(input(\"Enter number till where you want to get fibonacci series\"))\n",
    "n1=0\n",
    "n2=1\n",
    "sum=0\n",
    "while sum<=num:\n",
    "    print (sum)\n",
    "    n1=n2\n",
    "    n2=sum\n",
    "    sum=n1+n2"
   ]
  },
  {
   "cell_type": "markdown",
   "id": "82b187d6-2bf7-49c1-8ab9-f75ca81befdf",
   "metadata": {},
   "source": [
    "4.\tWrite a Python Program to Check Armstrong Number?"
   ]
  },
  {
   "cell_type": "code",
   "execution_count": 20,
   "id": "0b0460f5-3651-4816-9765-4aea80f0c54c",
   "metadata": {},
   "outputs": [
    {
     "name": "stdin",
     "output_type": "stream",
     "text": [
      "Enter number to check 407\n"
     ]
    },
    {
     "name": "stdout",
     "output_type": "stream",
     "text": [
      "The number 407 is an armstrong number\n"
     ]
    }
   ],
   "source": [
    "num=int(input(\"Enter number to check\"))\n",
    "sum=0\n",
    "order=len(str(num))\n",
    "for i in str(num):\n",
    "    sum+=int(i)**order\n",
    "if sum==num:\n",
    "    print(f\"The number {num} is an armstrong number\")\n",
    "else:\n",
    "    print (f\"The number {num} is not a armstrong number\")"
   ]
  },
  {
   "cell_type": "markdown",
   "id": "11b23b62-8964-445b-bc41-24779941146d",
   "metadata": {},
   "source": [
    "5.\tWrite a Python Program to Find Armstrong Number in an Interval?"
   ]
  },
  {
   "cell_type": "code",
   "execution_count": 4,
   "id": "89f8714e-8172-46f8-97f9-a5de4b26c8e1",
   "metadata": {},
   "outputs": [
    {
     "name": "stdin",
     "output_type": "stream",
     "text": [
      "Enter lower range:  10\n",
      "Enter upper range:  1000\n"
     ]
    },
    {
     "name": "stdout",
     "output_type": "stream",
     "text": [
      "153\n",
      "370\n",
      "371\n",
      "407\n"
     ]
    }
   ],
   "source": [
    "lower = int(input(\"Enter lower range: \"))\n",
    "upper = int(input(\"Enter upper range: \"))\n",
    "\n",
    "for num in range(lower, upper + 1):\n",
    "    sum = 0\n",
    "    order = len(str(num))\n",
    "    for i in str(num):\n",
    "        sum += int(i) ** order\n",
    "    if sum == num:\n",
    "        print(num)\n"
   ]
  },
  {
   "cell_type": "markdown",
   "id": "fcc6037f-0d6b-4254-8826-fa7a1a470b92",
   "metadata": {},
   "source": [
    "6.\tWrite a Python Program to Find the Sum of Natural Numbers?"
   ]
  },
  {
   "cell_type": "code",
   "execution_count": null,
   "id": "ce508163-c035-44bf-8e5a-a2c1f17b014d",
   "metadata": {},
   "outputs": [],
   "source": []
  }
 ],
 "metadata": {
  "kernelspec": {
   "display_name": "Python 3 (ipykernel)",
   "language": "python",
   "name": "python3"
  },
  "language_info": {
   "codemirror_mode": {
    "name": "ipython",
    "version": 3
   },
   "file_extension": ".py",
   "mimetype": "text/x-python",
   "name": "python",
   "nbconvert_exporter": "python",
   "pygments_lexer": "ipython3",
   "version": "3.10.6"
  }
 },
 "nbformat": 4,
 "nbformat_minor": 5
}
