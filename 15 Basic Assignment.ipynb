{
 "cells": [
  {
   "cell_type": "code",
   "execution_count": null,
   "id": "2abcac17-7ee8-4734-b61b-3c7e818fc22e",
   "metadata": {},
   "outputs": [],
   "source": [
    "Question 1:\n",
    "Please write a program using generator to print the numbers which can be divisible by 5 and 7 between 0 and n in comma separated form while n is input by console.\n",
    "Example:\n",
    "If the following n is given as input to the program:\n",
    "100\n",
    "Then, the output of the program should be:\n",
    "0,35,70\n"
   ]
  },
  {
   "cell_type": "code",
   "execution_count": 1,
   "id": "63abfd9d-cd76-43b3-aa06-401ad9bd37c7",
   "metadata": {},
   "outputs": [
    {
     "name": "stdin",
     "output_type": "stream",
     "text": [
      "Enter a number:  100\n"
     ]
    },
    {
     "name": "stdout",
     "output_type": "stream",
     "text": [
      "0,35,70\n"
     ]
    }
   ],
   "source": [
    "def divisible_by_5_and_7(n):\n",
    "    for i in range(n+1):\n",
    "        if i % 5 == 0 and i % 7 == 0:\n",
    "            yield i\n",
    "n = int(input(\"Enter a number: \"))\n",
    "result = divisible_by_5_and_7(n)\n",
    "print(\",\".join(str(x) for x in result))\n"
   ]
  },
  {
   "cell_type": "code",
   "execution_count": null,
   "id": "2f456104-6f33-49b2-9660-7f4833d47394",
   "metadata": {},
   "outputs": [],
   "source": [
    "Question 2:\n",
    "Please write a program using generator to print the even numbers between 0 and n in comma separated form while n is input by console.\n",
    "Example:\n",
    "If the following n is given as input to the program:\n",
    "10\n",
    "Then, the output of the program should be:\n",
    "0,2,4,6,8,10\n"
   ]
  },
  {
   "cell_type": "code",
   "execution_count": 2,
   "id": "7835ffec-650e-4eb5-9e5e-fc3b55de8c29",
   "metadata": {},
   "outputs": [
    {
     "name": "stdin",
     "output_type": "stream",
     "text": [
      "Enter a number:  10\n"
     ]
    },
    {
     "name": "stdout",
     "output_type": "stream",
     "text": [
      "0,2,4,6,8,10\n"
     ]
    }
   ],
   "source": [
    "def even_numbers(n):\n",
    "    for i in range(n+1):\n",
    "        if i % 2 == 0:\n",
    "            yield i\n",
    "n = int(input(\"Enter a number: \"))\n",
    "result = even_numbers(n)\n",
    "print(\",\".join(str(x) for x in result))\n"
   ]
  },
  {
   "cell_type": "code",
   "execution_count": null,
   "id": "dc3267ef-df80-4639-b0c5-7eded883f005",
   "metadata": {},
   "outputs": [],
   "source": [
    "Question 3:\n",
    "The Fibonacci Sequence is computed based on the following formula:\n",
    "f(n)=0 if n=0\n",
    "f(n)=1 if n=1\n",
    "f(n)=f(n-1)+f(n-2) if n>1\n",
    "Please write a program using list comprehension to print the Fibonacci Sequence in comma separated form with a given n input by console.\n",
    "Example:\n",
    "If the following n is given as input to the program:\n",
    "7\n"
   ]
  },
  {
   "cell_type": "code",
   "execution_count": 4,
   "id": "53c4bf16-59ef-4f33-805c-868ead1e8b3e",
   "metadata": {},
   "outputs": [
    {
     "name": "stdin",
     "output_type": "stream",
     "text": [
      "Enter the value of n:  7\n"
     ]
    },
    {
     "name": "stdout",
     "output_type": "stream",
     "text": [
      "0, 1, 1, 2, 3, 5, 8\n"
     ]
    }
   ],
   "source": [
    "n = int(input(\"Enter the value of n: \"))\n",
    "\n",
    "fib_seq = [0, 1]\n",
    "\n",
    "[fib_seq.append(fib_seq[-1] + fib_seq[-2]) for i in range(2, n+1)]\n",
    "\n",
    "print(*fib_seq[:n], sep=\", \")\n",
    "\n"
   ]
  }
 ],
 "metadata": {
  "kernelspec": {
   "display_name": "Python 3 (ipykernel)",
   "language": "python",
   "name": "python3"
  },
  "language_info": {
   "codemirror_mode": {
    "name": "ipython",
    "version": 3
   },
   "file_extension": ".py",
   "mimetype": "text/x-python",
   "name": "python",
   "nbconvert_exporter": "python",
   "pygments_lexer": "ipython3",
   "version": "3.10.6"
  }
 },
 "nbformat": 4,
 "nbformat_minor": 5
}
