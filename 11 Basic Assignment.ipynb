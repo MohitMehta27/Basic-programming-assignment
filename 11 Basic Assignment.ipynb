{
 "cells": [
  {
   "cell_type": "code",
   "execution_count": null,
   "id": "b1f2e1d9-62ae-45bf-88b3-67c1d518811b",
   "metadata": {},
   "outputs": [],
   "source": [
    "1.\tWrite a Python program to find words which are greater than given length k?"
   ]
  },
  {
   "cell_type": "code",
   "execution_count": 16,
   "id": "f4d32f80-aaae-460d-9737-4facc8b29386",
   "metadata": {},
   "outputs": [
    {
     "name": "stdout",
     "output_type": "stream",
     "text": [
      "['quick', 'brown', 'jumps']\n"
     ]
    }
   ],
   "source": [
    "def words(sentence,k):\n",
    "    sorted_words=sentence.split()\n",
    "    sorted_sentence=[]\n",
    "\n",
    "    for i in sorted_words:\n",
    "        if len(i) >k:\n",
    "            sorted_sentence.append(i)\n",
    "    print (sorted_sentence)\n",
    "words (\"The quick brown fox jumps over the lazy dog\",4)"
   ]
  },
  {
   "cell_type": "code",
   "execution_count": null,
   "id": "d8af3654-ed6f-4992-beeb-0ce3cb536d17",
   "metadata": {},
   "outputs": [],
   "source": [
    "2.\tWrite a Python program for removing i-th character from a string?"
   ]
  },
  {
   "cell_type": "code",
   "execution_count": 41,
   "id": "1682b9a3-f10b-4653-a2fd-cd0be498b952",
   "metadata": {},
   "outputs": [
    {
     "data": {
      "text/plain": [
       "'My nae is xyz'"
      ]
     },
     "execution_count": 41,
     "metadata": {},
     "output_type": "execute_result"
    }
   ],
   "source": [
    "def remove_i(string,i):\n",
    "    if i>=len(string):\n",
    "        print (\"error\")\n",
    "    string_list=list(string)\n",
    "    del string_list[i]\n",
    "    final=\"\".join(string_list)\n",
    "    return final\n",
    "remove_i(\"My name is xyz\",5)"
   ]
  },
  {
   "cell_type": "code",
   "execution_count": null,
   "id": "5bfe5a08-2f47-436a-b3d9-be28499471b6",
   "metadata": {},
   "outputs": [],
   "source": [
    "3.\tWrite a Python program to split and join a string?"
   ]
  },
  {
   "cell_type": "code",
   "execution_count": 40,
   "id": "44ba5f38-ffc1-4c2c-aaba-dcc4537282c9",
   "metadata": {},
   "outputs": [
    {
     "name": "stdin",
     "output_type": "stream",
     "text": [
      "enter string My name is xyz\n"
     ]
    },
    {
     "name": "stdout",
     "output_type": "stream",
     "text": [
      "M-y- -n-a-m-e- -i-s- -x-y-z\n",
      "['My', 'name', 'is', 'xyz']\n"
     ]
    }
   ],
   "source": [
    "string=str(input(\"enter string\"))\n",
    "joined_string = \"-\".join(string)\n",
    "split_string= string.split()\n",
    "print (joined_string)\n",
    "print(split_string)"
   ]
  },
  {
   "cell_type": "code",
   "execution_count": null,
   "id": "3d6e5773-8caa-403a-a578-609df1b1ea10",
   "metadata": {},
   "outputs": [],
   "source": [
    "4.\tWrite a Python to check if a given string is binary string or not?"
   ]
  },
  {
   "cell_type": "code",
   "execution_count": 46,
   "id": "851f841c-56f8-4db6-89ad-318291cd034a",
   "metadata": {},
   "outputs": [
    {
     "data": {
      "text/plain": [
       "True"
      ]
     },
     "execution_count": 46,
     "metadata": {},
     "output_type": "execute_result"
    }
   ],
   "source": [
    "def binary(string):\n",
    "    for char in string:\n",
    "        if char != '0' and char != '1':\n",
    "            return False\n",
    "\n",
    "    return True\n",
    "binary('10101010')"
   ]
  },
  {
   "cell_type": "code",
   "execution_count": null,
   "id": "e0afd0eb-065c-419c-b531-0e091c74ace4",
   "metadata": {},
   "outputs": [],
   "source": [
    "5.\tWrite a Python program to find uncommon words from two Strings?"
   ]
  },
  {
   "cell_type": "code",
   "execution_count": 53,
   "id": "1d566d4c-3eea-4e33-8921-6bc25f1cd58a",
   "metadata": {},
   "outputs": [
    {
     "name": "stdin",
     "output_type": "stream",
     "text": [
      " My name is mohit\n",
      " the name is xyz\n"
     ]
    },
    {
     "name": "stdout",
     "output_type": "stream",
     "text": [
      "['My', 'mohit', 'the', 'xyz']\n"
     ]
    }
   ],
   "source": [
    "x=str(input())\n",
    "y=str(input())\n",
    "a=x.split()\n",
    "b=y.split()\n",
    "c=[]\n",
    "for i in a:\n",
    "    if i not in b:\n",
    "        c.append(i)\n",
    "for i in b:\n",
    "    if i not in a:\n",
    "        c.append(i)\n",
    "print(c)\n",
    "        "
   ]
  },
  {
   "cell_type": "code",
   "execution_count": null,
   "id": "727163f3-3fa8-46d4-9d9b-9f83f896edd1",
   "metadata": {},
   "outputs": [],
   "source": [
    "6.\tWrite a Python to find all duplicate characters in string?"
   ]
  },
  {
   "cell_type": "code",
   "execution_count": 9,
   "id": "586844d5-3281-462e-8eaa-9e60518ec108",
   "metadata": {},
   "outputs": [
    {
     "name": "stdout",
     "output_type": "stream",
     "text": [
      "{2, 3, 4, 7}\n"
     ]
    }
   ],
   "source": [
    "string = \"hello world this is program to find dulicates\"\n",
    "duplicates = set([string.count(char) for char in set(string) if string.count(char) > 1])\n",
    "print(duplicates)\n"
   ]
  },
  {
   "cell_type": "code",
   "execution_count": null,
   "id": "2fb43d03-2d7f-4a4d-88f8-de16fc8234e8",
   "metadata": {},
   "outputs": [],
   "source": [
    "string = \"hello world this is program to find dulicates\"\n",
    "freq = {char: string.count(char) for char in set(string) if string.count(char) > 1}\n",
    "print(freq)\n"
   ]
  },
  {
   "cell_type": "code",
   "execution_count": 10,
   "id": "9cdeef0a-7ad2-4449-810d-8394a5e2b5c3",
   "metadata": {},
   "outputs": [
    {
     "name": "stdout",
     "output_type": "stream",
     "text": [
      "{'t': 3, 'e': 2, 'r': 3, 'l': 4, ' ': 7, 's': 3, 'h': 2, 'i': 4, 'o': 4, 'd': 3, 'a': 2}\n"
     ]
    }
   ],
   "source": [
    "string = \"hello world this is program to find dulicates\"\n",
    "char_set = set(string)\n",
    "freq = {}\n",
    "\n",
    "for char in char_set:\n",
    "    if string.count(char) > 1:\n",
    "        freq[char] = string.count(char)\n",
    "\n",
    "print(freq)\n"
   ]
  },
  {
   "cell_type": "code",
   "execution_count": null,
   "id": "2eb67a6f-eba0-412d-921c-014e8457ca88",
   "metadata": {},
   "outputs": [],
   "source": [
    "7.\tWrite a Python Program to check if a string contains any special character?"
   ]
  },
  {
   "cell_type": "code",
   "execution_count": 11,
   "id": "f3b8a5a0-55c1-4c98-ab41-b9dd60f48f6f",
   "metadata": {},
   "outputs": [
    {
     "name": "stdout",
     "output_type": "stream",
     "text": [
      "String contains special characters.\n"
     ]
    }
   ],
   "source": [
    "import re\n",
    "\n",
    "string = \"hello@world!\"\n",
    "\n",
    "if re.search('[^a-zA-Z0-9]', string):\n",
    "    print(\"String contains special characters.\")\n",
    "else:\n",
    "    print(\"String does not contain special characters.\")\n"
   ]
  }
 ],
 "metadata": {
  "kernelspec": {
   "display_name": "Python 3 (ipykernel)",
   "language": "python",
   "name": "python3"
  },
  "language_info": {
   "codemirror_mode": {
    "name": "ipython",
    "version": 3
   },
   "file_extension": ".py",
   "mimetype": "text/x-python",
   "name": "python",
   "nbconvert_exporter": "python",
   "pygments_lexer": "ipython3",
   "version": "3.10.6"
  }
 },
 "nbformat": 4,
 "nbformat_minor": 5
}
