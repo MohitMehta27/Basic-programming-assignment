{
 "cells": [
  {
   "cell_type": "code",
   "execution_count": null,
   "id": "bae02802-a9c8-4e5b-bb46-e1e0f05cfa53",
   "metadata": {},
   "outputs": [],
   "source": [
    "Question 1:\n",
    "\n",
    "Write a program that calculates and prints the value according to the given formula:\n",
    "Q = Square root of [(2 * C * D)/H]\n",
    "Following are the fixed values of C and H:\n",
    "C is 50. H is 30.\n",
    "D is the variable whose values should be input to your program in a comma-separated sequence.\n",
    "Example\n",
    "Let us assume the following comma separated input sequence is given to the program:\n",
    "100,150,180\n",
    "The output of the program should be:\n",
    "18,22,24\n"
   ]
  },
  {
   "cell_type": "code",
   "execution_count": 3,
   "id": "32ce07d8-2d73-486c-bba9-268a6c505f41",
   "metadata": {},
   "outputs": [
    {
     "name": "stdin",
     "output_type": "stream",
     "text": [
      "Enter comma-separated values of D:  100,150,180\n"
     ]
    },
    {
     "name": "stdout",
     "output_type": "stream",
     "text": [
      "18,22,24\n"
     ]
    }
   ],
   "source": [
    "import math\n",
    "C = 50\n",
    "H = 30\n",
    "input_str = input(\"Enter comma-separated values of D: \")\n",
    "D_list = [int(x) for x in input_str.split(',')]\n",
    "result_list = []\n",
    "for D in D_list:\n",
    "    Q = round(math.sqrt((2 * C * D) / H))\n",
    "    result_list.append(str(Q))\n",
    "print(','.join(result_list))"
   ]
  },
  {
   "cell_type": "code",
   "execution_count": null,
   "id": "66f01244-ef55-4c86-b0cf-199da82991b5",
   "metadata": {},
   "outputs": [],
   "source": [
    "Question 2:\n",
    "Write a program which takes 2 digits, X,Y as input and generates a 2-dimensional array. The element value in the i-th row and j-th column of the array should be i*j.\n",
    "Note: i=0,1.., X-1; j=0,1,¡¬Y-1.\n",
    "Example\n",
    "Suppose the following inputs are given to the program:\n",
    "3,5\n",
    "Then, the output of the program should be:\n",
    "[[0, 0, 0, 0, 0], \n",
    "[0, 1, 2, 3, 4],\n",
    "[0, 2, 4, 6, 8]] \n"
   ]
  },
  {
   "cell_type": "code",
   "execution_count": 1,
   "id": "0beb3dbc-6ebf-445c-adb5-5c9b2a4e66a4",
   "metadata": {},
   "outputs": [
    {
     "name": "stdin",
     "output_type": "stream",
     "text": [
      "Enter the number of rows:  3\n",
      "Enter the number of columns:  5\n"
     ]
    },
    {
     "name": "stdout",
     "output_type": "stream",
     "text": [
      "[[0 0 0 0 0]\n",
      " [0 1 2 3 4]\n",
      " [0 2 4 6 8]]\n"
     ]
    }
   ],
   "source": [
    "import numpy as np\n",
    "\n",
    "X = int(input(\"Enter the number of rows: \"))\n",
    "Y = int(input(\"Enter the number of columns: \"))\n",
    "\n",
    "result = np.zeros((X, Y), dtype=int)\n",
    "\n",
    "for i in range(X):\n",
    "    for j in range(Y):\n",
    "        result[i][j] = i * j\n",
    "\n",
    "print(result)\n"
   ]
  },
  {
   "cell_type": "code",
   "execution_count": null,
   "id": "39326c1b-2d22-4e54-9646-656d7fd6d8ca",
   "metadata": {},
   "outputs": [],
   "source": [
    "Question 3:\n",
    "Write a program that accepts a comma separated sequence of words as input and prints the words in a comma-separated sequence after sorting them alphabetically.\n",
    "Suppose the following input is supplied to the program:\n",
    "without,hello,bag,world\n",
    "Then, the output should be:\n",
    "bag,hello,without,world\n"
   ]
  },
  {
   "cell_type": "code",
   "execution_count": 4,
   "id": "d57036e6-4cb9-4a6d-8152-6325dc90dc85",
   "metadata": {},
   "outputs": [
    {
     "name": "stdin",
     "output_type": "stream",
     "text": [
      "Enter a comma-separated sequence of words:  without,hello,bag,world\n"
     ]
    },
    {
     "name": "stdout",
     "output_type": "stream",
     "text": [
      "bag,hello,without,world\n"
     ]
    }
   ],
   "source": [
    "words = input(\"Enter a comma-separated sequence of words: \")\n",
    "word_list = words.split(\",\")\n",
    "word_list.sort()\n",
    "sorted_words = \",\".join(word_list)\n",
    "print(sorted_words)\n"
   ]
  },
  {
   "cell_type": "code",
   "execution_count": null,
   "id": "3f9af1ae-13d3-4a0b-9199-bb274391fd66",
   "metadata": {},
   "outputs": [],
   "source": [
    "Question 4:\n",
    "Write a program that accepts a sequence of whitespace separated words as input and prints the words after removing all duplicate words and sorting them alphanumerically.\n",
    "Suppose the following input is supplied to the program:\n",
    "hello world and practice makes perfect and hello world again\n",
    "Then, the output should be:\n",
    "again and hello makes perfect practice world\n"
   ]
  },
  {
   "cell_type": "code",
   "execution_count": 2,
   "id": "8b78566a-a452-4288-93be-3533223bbf8b",
   "metadata": {},
   "outputs": [
    {
     "name": "stdin",
     "output_type": "stream",
     "text": [
      "Enter a sequence of words:  the name is xyz and sur name is pqr\n"
     ]
    },
    {
     "name": "stdout",
     "output_type": "stream",
     "text": [
      "and is name pqr sur the xyz\n"
     ]
    }
   ],
   "source": [
    "words = input(\"Enter a sequence of words: \")\n",
    "word_list = words.split()\n",
    "unique_words = list(set(word_list))\n",
    "sorted_words = sorted(unique_words)\n",
    "result = ' '.join(sorted_words)\n",
    "print(result)\n"
   ]
  },
  {
   "cell_type": "code",
   "execution_count": null,
   "id": "3ccf7881-a85b-4d56-8996-669acf3a9e9b",
   "metadata": {},
   "outputs": [],
   "source": [
    "Question 5:\n",
    "Write a program that accepts a sentence and calculate the number of letters and digits.\n",
    "Suppose the following input is supplied to the program:\n",
    "hello world! 123\n",
    "Then, the output should be:\n",
    "LETTERS 10\n",
    "DIGITS 3\n"
   ]
  },
  {
   "cell_type": "code",
   "execution_count": 5,
   "id": "378189c2-4115-41a6-89d8-b5607907496b",
   "metadata": {},
   "outputs": [
    {
     "name": "stdin",
     "output_type": "stream",
     "text": [
      "Enter a sentence:  My name is xyz123\n"
     ]
    },
    {
     "name": "stdout",
     "output_type": "stream",
     "text": [
      "LETTERS 11\n",
      "DIGITS 3\n"
     ]
    }
   ],
   "source": [
    "sentence = input(\"Enter a sentence: \")\n",
    "letter_count = 0\n",
    "digit_count = 0\n",
    "for i in sentence:\n",
    "    if i.isalpha():  \n",
    "        letter_count += 1\n",
    "    elif i.isdigit(): \n",
    "        digit_count += 1\n",
    "print(\"LETTERS\", letter_count)\n",
    "print(\"DIGITS\", digit_count)\n"
   ]
  },
  {
   "cell_type": "code",
   "execution_count": null,
   "id": "b8b24895-7d16-4e1d-a818-0dbe2a644104",
   "metadata": {},
   "outputs": [],
   "source": [
    "Question 6:\n",
    "A website requires the users to input username and password to register. Write a program to check the validity of password input by users.\n",
    "Following are the criteria for checking the password:\n",
    "1. At least 1 letter between [a-z]\n",
    "2. At least 1 number between [0-9]\n",
    "1. At least 1 letter between [A-Z]\n",
    "3. At least 1 character from [$#@]\n",
    "4. Minimum length of transaction password: 6\n",
    "5. Maximum length of transaction password: 12\n",
    "Your program should accept a sequence of comma separated passwords and will check them according to the above criteria. Passwords that match the criteria are to be printed, each separated by a comma.\n",
    "\n",
    "Example\n",
    "\n",
    "If the following passwords are given as input to the program:\n",
    "ABd1234@1,a F1#,2w3E*,2We3345\n",
    "Then, the output of the program should be:\n",
    "ABd1234@1\n"
   ]
  },
  {
   "cell_type": "code",
   "execution_count": 6,
   "id": "2cb045e0-7a33-4c35-b254-772107f97989",
   "metadata": {},
   "outputs": [
    {
     "name": "stdin",
     "output_type": "stream",
     "text": [
      "Enter comma separated passwords:  ABd1234@1,a F1#,2w3E*,2We3345\n"
     ]
    },
    {
     "name": "stdout",
     "output_type": "stream",
     "text": [
      "ABd1234@1\n"
     ]
    }
   ],
   "source": [
    "import re\n",
    "passwords = input(\"Enter comma separated passwords: \")\n",
    "password_list = passwords.split(\",\")\n",
    "valid_passwords = []\n",
    "for password in password_list:\n",
    "    if len(password) >= 6 and len(password) <= 12:\n",
    "        if re.search(\"[a-z]\", password) and re.search(\"[A-Z]\", password) and re.search(\"[0-9]\", password) and re.search(\"[$#@]\", password):\n",
    "            valid_passwords.append(password)\n",
    "print(\",\".join(valid_passwords))\n"
   ]
  }
 ],
 "metadata": {
  "kernelspec": {
   "display_name": "Python 3 (ipykernel)",
   "language": "python",
   "name": "python3"
  },
  "language_info": {
   "codemirror_mode": {
    "name": "ipython",
    "version": 3
   },
   "file_extension": ".py",
   "mimetype": "text/x-python",
   "name": "python",
   "nbconvert_exporter": "python",
   "pygments_lexer": "ipython3",
   "version": "3.10.6"
  }
 },
 "nbformat": 4,
 "nbformat_minor": 5
}
