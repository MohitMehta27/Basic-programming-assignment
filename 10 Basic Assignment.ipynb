{
 "cells": [
  {
   "cell_type": "code",
   "execution_count": null,
   "id": "dbb8617e-4a26-4b7f-9f47-0ddb692ed1fc",
   "metadata": {},
   "outputs": [],
   "source": [
    "1.\tWrite a Python program to find sum of elements in list?"
   ]
  },
  {
   "cell_type": "code",
   "execution_count": 9,
   "id": "ef29a139-7431-4818-84e2-fba9005fc262",
   "metadata": {},
   "outputs": [
    {
     "name": "stdout",
     "output_type": "stream",
     "text": [
      "21\n"
     ]
    }
   ],
   "source": [
    "a=[1,2,3,4,5,6]\n",
    "sum=0\n",
    "for i in a:\n",
    "    sum=sum+i\n",
    "print (sum)"
   ]
  },
  {
   "cell_type": "code",
   "execution_count": null,
   "id": "b052d207-f750-45f7-b7d8-6001cb4c55f2",
   "metadata": {},
   "outputs": [],
   "source": [
    "2.\tWrite a Python program to  Multiply all numbers in the list?"
   ]
  },
  {
   "cell_type": "code",
   "execution_count": 10,
   "id": "523f751c-3c9a-42a2-99d9-4a2ae405b377",
   "metadata": {},
   "outputs": [
    {
     "name": "stdout",
     "output_type": "stream",
     "text": [
      "720\n"
     ]
    }
   ],
   "source": [
    "a=[1,2,3,4,5,6]\n",
    "mul=1\n",
    "for i in a:\n",
    "    mul=mul*i\n",
    "print (mul)"
   ]
  },
  {
   "cell_type": "code",
   "execution_count": null,
   "id": "198cfd90-ee71-43d6-b0de-55a6b2a2e7e9",
   "metadata": {},
   "outputs": [],
   "source": [
    "3.\tWrite a Python program to find smallest number in a list?"
   ]
  },
  {
   "cell_type": "code",
   "execution_count": 11,
   "id": "6a97358c-2ce1-4ee7-b9cf-edd07f239f46",
   "metadata": {},
   "outputs": [
    {
     "data": {
      "text/plain": [
       "1"
      ]
     },
     "execution_count": 11,
     "metadata": {},
     "output_type": "execute_result"
    }
   ],
   "source": [
    "a=[1,2,3,4,5,6]\n",
    "min(a)"
   ]
  },
  {
   "cell_type": "code",
   "execution_count": null,
   "id": "26873ba5-5cc4-435a-80a4-1745c3e07c28",
   "metadata": {},
   "outputs": [],
   "source": [
    "4.\tWrite a Python program to find largest number in a list?"
   ]
  },
  {
   "cell_type": "code",
   "execution_count": 12,
   "id": "5a6b9f4f-d5a9-49f5-9708-d58f0bcaed80",
   "metadata": {},
   "outputs": [
    {
     "data": {
      "text/plain": [
       "6"
      ]
     },
     "execution_count": 12,
     "metadata": {},
     "output_type": "execute_result"
    }
   ],
   "source": [
    "a=[1,2,3,4,5,6]\n",
    "max(a)"
   ]
  },
  {
   "cell_type": "code",
   "execution_count": null,
   "id": "2624c6b9-3e84-4025-8616-765697814b66",
   "metadata": {},
   "outputs": [],
   "source": [
    "5.\tWrite a Python program to find second largest number in a list?"
   ]
  },
  {
   "cell_type": "code",
   "execution_count": 13,
   "id": "c1412393-462b-48b2-9c84-63258aa2a5ae",
   "metadata": {},
   "outputs": [
    {
     "data": {
      "text/plain": [
       "5"
      ]
     },
     "execution_count": 13,
     "metadata": {},
     "output_type": "execute_result"
    }
   ],
   "source": [
    "a=[1,2,3,4,5,6]\n",
    "sorted(a)[-2]"
   ]
  },
  {
   "cell_type": "code",
   "execution_count": null,
   "id": "0ffabad3-53a9-4ba7-a80d-cdae91950c62",
   "metadata": {},
   "outputs": [],
   "source": [
    "6.\tWrite a Python program to find N largest elements from a list?"
   ]
  },
  {
   "cell_type": "code",
   "execution_count": 15,
   "id": "91e75acf-1d23-4241-a061-abc2ffd12d18",
   "metadata": {},
   "outputs": [
    {
     "data": {
      "text/plain": [
       "[6, 5, 4]"
      ]
     },
     "execution_count": 15,
     "metadata": {},
     "output_type": "execute_result"
    }
   ],
   "source": [
    "def n_largest(lst, n):\n",
    "    lst.sort(reverse=True)\n",
    "    return lst[:n]\n",
    "n_largest([1,2,3,4,5,6],3)"
   ]
  },
  {
   "cell_type": "code",
   "execution_count": null,
   "id": "a532d595-ecba-4b8c-b51a-c9ba30fe64af",
   "metadata": {},
   "outputs": [],
   "source": [
    "7.\tWrite a Python program to print even numbers in a list?"
   ]
  },
  {
   "cell_type": "code",
   "execution_count": 16,
   "id": "93aec174-d20c-4db7-98d1-8fa34c6fcbb9",
   "metadata": {},
   "outputs": [
    {
     "name": "stdout",
     "output_type": "stream",
     "text": [
      "2\n",
      "4\n",
      "6\n",
      "8\n",
      "10\n"
     ]
    }
   ],
   "source": [
    "a= [1, 2, 3, 4, 5, 6, 7, 8, 9, 10]\n",
    "\n",
    "for i in a:\n",
    "    if i % 2 == 0:\n",
    "        print(i)\n"
   ]
  },
  {
   "cell_type": "code",
   "execution_count": null,
   "id": "04679643-0f27-405f-9f06-8d346b0f1225",
   "metadata": {},
   "outputs": [],
   "source": [
    "8.\tWrite a Python program to print odd numbers in a List?"
   ]
  },
  {
   "cell_type": "code",
   "execution_count": 17,
   "id": "6e226a7c-0ce4-49bc-9bd1-7daa086725da",
   "metadata": {},
   "outputs": [
    {
     "name": "stdout",
     "output_type": "stream",
     "text": [
      "1\n",
      "3\n",
      "5\n",
      "7\n",
      "9\n"
     ]
    }
   ],
   "source": [
    "a= [1, 2, 3, 4, 5, 6, 7, 8, 9, 10]\n",
    "\n",
    "for i in a:\n",
    "    if i % 2 != 0:\n",
    "        print(i)\n"
   ]
  },
  {
   "cell_type": "code",
   "execution_count": null,
   "id": "f5128d41-bbfd-4ec0-bb45-38a272e9cbca",
   "metadata": {},
   "outputs": [],
   "source": [
    "9.\tWrite a Python program to Remove empty List from List?"
   ]
  },
  {
   "cell_type": "code",
   "execution_count": 18,
   "id": "8270311f-8501-47ba-b288-805b72d65891",
   "metadata": {},
   "outputs": [
    {
     "name": "stdout",
     "output_type": "stream",
     "text": [
      "[1, 3, 6, 7, 9]\n"
     ]
    }
   ],
   "source": [
    "a = [1, [], 3, [], [], 6, 7, [], 9]\n",
    "new_list = [i for i in a if i != []]\n",
    "print(new_list)\n"
   ]
  },
  {
   "cell_type": "code",
   "execution_count": 25,
   "id": "1c62b992-1bb9-47c3-819d-c439f49464f5",
   "metadata": {},
   "outputs": [
    {
     "name": "stdout",
     "output_type": "stream",
     "text": [
      "[1, 3, 6, 7, 9]\n"
     ]
    }
   ],
   "source": [
    "a= [1, [], 3, [], [], 6, 7, [], 9]\n",
    "b=[]\n",
    "for i in a:\n",
    "    if i != []:\n",
    "        b.append (i)\n",
    "print(b)"
   ]
  },
  {
   "cell_type": "code",
   "execution_count": null,
   "id": "de49a4c9-5f91-4412-aefd-9c3fe7c97691",
   "metadata": {},
   "outputs": [],
   "source": [
    "10.\tWrite a Python program to Cloning or Copying a list?"
   ]
  },
  {
   "cell_type": "code",
   "execution_count": 28,
   "id": "d6a2a669-db8f-4127-be42-0c810f846b25",
   "metadata": {},
   "outputs": [
    {
     "name": "stdout",
     "output_type": "stream",
     "text": [
      "[1, 2, 3, 4, 5]\n"
     ]
    }
   ],
   "source": [
    "a = [1, 2, 3, 4, 5]\n",
    "clone = list(a)\n",
    "print (clone)"
   ]
  },
  {
   "cell_type": "code",
   "execution_count": null,
   "id": "3dff5351-bd78-42aa-8ac6-7eee35b75e5c",
   "metadata": {},
   "outputs": [],
   "source": [
    "11.\tWrite a Python program to Count occurrences of an element in a list?"
   ]
  },
  {
   "cell_type": "code",
   "execution_count": 29,
   "id": "79ea30ee-2823-402e-b4d1-360e71fdfa54",
   "metadata": {},
   "outputs": [
    {
     "name": "stdout",
     "output_type": "stream",
     "text": [
      "2\n"
     ]
    }
   ],
   "source": [
    "a=[1, 2, 3, 4, 5, 6, 5, 4, 3, 2, 1]\n",
    "count=a.count(5)\n",
    "print (count)"
   ]
  }
 ],
 "metadata": {
  "kernelspec": {
   "display_name": "Python 3 (ipykernel)",
   "language": "python",
   "name": "python3"
  },
  "language_info": {
   "codemirror_mode": {
    "name": "ipython",
    "version": 3
   },
   "file_extension": ".py",
   "mimetype": "text/x-python",
   "name": "python",
   "nbconvert_exporter": "python",
   "pygments_lexer": "ipython3",
   "version": "3.10.6"
  }
 },
 "nbformat": 4,
 "nbformat_minor": 5
}
