{
 "cells": [
  {
   "cell_type": "markdown",
   "id": "80dc8e9b-f7cd-4a84-8da1-5773434cef40",
   "metadata": {},
   "source": [
    "1.\tWrite a Python Program to Find LCM?"
   ]
  },
  {
   "cell_type": "code",
   "execution_count": 3,
   "id": "4ae557a2-ab0f-4a55-9fb4-46959040047f",
   "metadata": {
    "tags": []
   },
   "outputs": [
    {
     "name": "stdin",
     "output_type": "stream",
     "text": [
      "Enter value of a:  8\n",
      "Enter value of b:  4\n"
     ]
    },
    {
     "name": "stdout",
     "output_type": "stream",
     "text": [
      "the LCM of 8 and 4 is : 8\n"
     ]
    }
   ],
   "source": [
    "a=int(input(\"Enter value of a: \"))\n",
    "b=int(input(\"Enter value of b: \"))\n",
    "max_num=max(a,b)\n",
    "while (True):\n",
    "    if (max_num%a==0 and max_num%b==0):\n",
    "        break\n",
    "        max_num+=max_num\n",
    "print (f\"the LCM of {a} and {b} is : {max_num}\")"
   ]
  },
  {
   "cell_type": "markdown",
   "id": "2348901e-9fd3-4a78-9d1e-b980c3092423",
   "metadata": {},
   "source": [
    "2.\tWrite a Python Program to Find HCF?"
   ]
  },
  {
   "cell_type": "code",
   "execution_count": 19,
   "id": "703dac8b-c619-439b-8650-314cf05fc751",
   "metadata": {},
   "outputs": [
    {
     "name": "stdin",
     "output_type": "stream",
     "text": [
      "Enter value of a:  16\n",
      "Enter value of b:  8\n"
     ]
    },
    {
     "name": "stdout",
     "output_type": "stream",
     "text": [
      "the HCF of 16,8 is : 8\n"
     ]
    }
   ],
   "source": [
    "a=int(input(\"Enter value of a: \"))\n",
    "b=int(input(\"Enter value of b: \"))\n",
    "min_num=min(a,b)\n",
    "for i in range (1,min_num+1):\n",
    "    if (a%i==0 and b%i==0):\n",
    "        HCF = i\n",
    "print (f\"the HCF of {a},{b} is : {HCF}\")"
   ]
  },
  {
   "cell_type": "markdown",
   "id": "197bbc8d-62a3-4de4-8911-0675242aa770",
   "metadata": {},
   "source": [
    "3.\tWrite a Python Program to Convert Decimal to Binary, Octal and Hexadecimal?"
   ]
  },
  {
   "cell_type": "code",
   "execution_count": 22,
   "id": "43d4353b-6490-465a-aa37-6fb816b219fc",
   "metadata": {},
   "outputs": [
    {
     "name": "stdin",
     "output_type": "stream",
     "text": [
      "Enter a decimal number:  12\n"
     ]
    },
    {
     "name": "stdout",
     "output_type": "stream",
     "text": [
      "The binary equivalent of 12 is 0b1100\n",
      "The octal equivalent of 12 is 0o14\n",
      "The hexadecimal equivalent of 12 is 0xc\n"
     ]
    }
   ],
   "source": [
    "decimal = int(input(\"Enter a decimal number: \"))\n",
    "binary = bin(decimal)\n",
    "octal = oct(decimal)\n",
    "hexadecimal = hex(decimal)\n",
    "print(f\"The binary equivalent of {decimal} is {binary}\")\n",
    "print(f\"The octal equivalent of {decimal} is {octal}\")\n",
    "print(f\"The hexadecimal equivalent of {decimal} is {hexadecimal}\")\n"
   ]
  },
  {
   "cell_type": "markdown",
   "id": "1080ee15-8805-40e5-a3a1-e9dcd3aafb8e",
   "metadata": {},
   "source": [
    "4.\tWrite a Python Program To Find ASCII value of a character?"
   ]
  },
  {
   "cell_type": "code",
   "execution_count": null,
   "id": "f4e4a861-9d66-430a-baeb-fb575469e2d5",
   "metadata": {},
   "outputs": [],
   "source": [
    "character="
   ]
  },
  {
   "cell_type": "markdown",
   "id": "ca68b5cf-e8d1-4133-9da9-cbf3777f2b6b",
   "metadata": {},
   "source": [
    "5.\tWrite a Python Program to Make a Simple Calculator with 4 basic mathematical operations?"
   ]
  },
  {
   "cell_type": "code",
   "execution_count": 24,
   "id": "5e1fb7b4-4925-42bb-bb46-ce867cac6cd1",
   "metadata": {},
   "outputs": [
    {
     "name": "stdin",
     "output_type": "stream",
     "text": [
      "Enter the first number:  12\n",
      "Enter the second number:  45\n"
     ]
    },
    {
     "name": "stdout",
     "output_type": "stream",
     "text": [
      "Select operation:\n",
      "1. Addition\n",
      "2. Subtraction\n",
      "3. Multiplication\n",
      "4. Division\n"
     ]
    },
    {
     "name": "stdin",
     "output_type": "stream",
     "text": [
      "Enter your choice (1/2/3/4):  4\n"
     ]
    },
    {
     "name": "stdout",
     "output_type": "stream",
     "text": [
      "12.0 / 45.0 = 0.26666666666666666\n"
     ]
    }
   ],
   "source": [
    "def add(num1, num2):\n",
    "    return num1 + num2\n",
    "def subtract(num1, num2):\n",
    "    return num1 - num2\n",
    "def multiply(num1, num2):\n",
    "    return num1 * num2\n",
    "def divide(num1, num2):\n",
    "    if num2 == 0:\n",
    "        return \"Cannot divide by zero\"\n",
    "    else:\n",
    "        return num1 / num2\n",
    "\n",
    "num1 = float(input(\"Enter the first number: \"))\n",
    "num2 = float(input(\"Enter the second number: \"))\n",
    "\n",
    "print(\"Select operation:\")\n",
    "print(\"1. Addition\")\n",
    "print(\"2. Subtraction\")\n",
    "print(\"3. Multiplication\")\n",
    "print(\"4. Division\")\n",
    "\n",
    "choice = int(input(\"Enter your choice (1/2/3/4): \"))\n",
    "\n",
    "if choice == 1:\n",
    "    print(num1, \"+\", num2, \"=\", add(num1, num2))\n",
    "elif choice == 2:\n",
    "    print(num1, \"-\", num2, \"=\", subtract(num1, num2))\n",
    "elif choice == 3:\n",
    "    print(num1, \"*\", num2, \"=\", multiply(num1, num2))\n",
    "elif choice == 4:\n",
    "    print(num1, \"/\", num2, \"=\", divide(num1, num2))\n",
    "else:\n",
    "    print(\"Invalid input\")\n"
   ]
  }
 ],
 "metadata": {
  "kernelspec": {
   "display_name": "Python 3 (ipykernel)",
   "language": "python",
   "name": "python3"
  },
  "language_info": {
   "codemirror_mode": {
    "name": "ipython",
    "version": 3
   },
   "file_extension": ".py",
   "mimetype": "text/x-python",
   "name": "python",
   "nbconvert_exporter": "python",
   "pygments_lexer": "ipython3",
   "version": "3.10.6"
  }
 },
 "nbformat": 4,
 "nbformat_minor": 5
}
